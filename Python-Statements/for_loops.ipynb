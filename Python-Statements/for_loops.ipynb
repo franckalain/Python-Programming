{
  "nbformat": 4,
  "nbformat_minor": 0,
  "metadata": {
    "colab": {
      "name": "for_loops.ipynb",
      "version": "0.3.2",
      "provenance": [],
      "include_colab_link": true
    },
    "kernelspec": {
      "name": "python3",
      "display_name": "Python 3"
    }
  },
  "cells": [
    {
      "cell_type": "markdown",
      "metadata": {
        "id": "view-in-github",
        "colab_type": "text"
      },
      "source": [
        "<a href=\"https://colab.research.google.com/github/franckalain/Python-Programming/blob/master/Python-Statements/for_loops.ipynb\" target=\"_parent\"><img src=\"https://colab.research.google.com/assets/colab-badge.svg\" alt=\"Open In Colab\"/></a>"
      ]
    },
    {
      "metadata": {
        "id": "hwTNzphvnHir",
        "colab_type": "text"
      },
      "cell_type": "markdown",
      "source": [
        "## **for Loops**\n",
        "\n",
        "**A for loop **acts as an iterator in Python; it goes through items that are in a sequence or any other iterable item. Objects that we've learned about that we can iterate over include strings, lists, tuples, and even built-in iterables for dictionaries, such as keys or values.\n",
        "\n",
        "We've already seen the for statement a little bit in past lectures but now let's formalize our understanding.\n",
        "\n",
        "Here's the general format for a for loop in Python:\n",
        "\n",
        "for item in object:\n",
        "    statements to do stuff\n",
        "The variable name used for the item is completely up to the coder, so use your best judgment for choosing a name that makes sense and you will be able to understand when revisiting your code. This item name can then be referenced inside your loop, for example if you wanted to use if statements to perform checks.\n",
        "\n",
        "Let's go ahead and work through several example of for loops using a variety of data object types. We'll start simple and build more complexity later on."
      ]
    },
    {
      "metadata": {
        "id": "YFqfKtrPna6I",
        "colab_type": "code",
        "colab": {}
      },
      "cell_type": "code",
      "source": [
        "mylist = [1, 2, 3, 4, 5, 6, 7, 8, 9, 10]"
      ],
      "execution_count": 0,
      "outputs": []
    },
    {
      "metadata": {
        "id": "ktQudjTUnsbS",
        "colab_type": "code",
        "colab": {
          "base_uri": "https://localhost:8080/",
          "height": 187
        },
        "outputId": "14bfb941-64ab-4923-8301-1ab411663f74"
      },
      "cell_type": "code",
      "source": [
        "for number in mylist:\n",
        "  print(number)"
      ],
      "execution_count": 2,
      "outputs": [
        {
          "output_type": "stream",
          "text": [
            "1\n",
            "2\n",
            "3\n",
            "4\n",
            "5\n",
            "6\n",
            "7\n",
            "8\n",
            "9\n",
            "10\n"
          ],
          "name": "stdout"
        }
      ]
    },
    {
      "metadata": {
        "id": "kzAA1hAonyqT",
        "colab_type": "code",
        "colab": {
          "base_uri": "https://localhost:8080/",
          "height": 102
        },
        "outputId": "90b80c3b-7671-4cdf-8b15-6729afa9c2b3"
      },
      "cell_type": "code",
      "source": [
        "for number in mylist:\n",
        "  if number % 2 == 0:\n",
        "    print(number)"
      ],
      "execution_count": 3,
      "outputs": [
        {
          "output_type": "stream",
          "text": [
            "2\n",
            "4\n",
            "6\n",
            "8\n",
            "10\n"
          ],
          "name": "stdout"
        }
      ]
    },
    {
      "metadata": {
        "id": "qbkZoNTDn-7t",
        "colab_type": "code",
        "colab": {
          "base_uri": "https://localhost:8080/",
          "height": 102
        },
        "outputId": "08cca68b-f182-4389-a7cc-5695804bffb5"
      },
      "cell_type": "code",
      "source": [
        "for number in mylist:\n",
        "  if number % 2 != 0:\n",
        "    print(number)"
      ],
      "execution_count": 4,
      "outputs": [
        {
          "output_type": "stream",
          "text": [
            "1\n",
            "3\n",
            "5\n",
            "7\n",
            "9\n"
          ],
          "name": "stdout"
        }
      ]
    },
    {
      "metadata": {
        "id": "vjzFwasLoH94",
        "colab_type": "code",
        "colab": {
          "base_uri": "https://localhost:8080/",
          "height": 187
        },
        "outputId": "277789aa-d219-48b6-ffc7-8532e52972b0"
      },
      "cell_type": "code",
      "source": [
        "mylist_sum = 0\n",
        "\n",
        "for number in mylist:\n",
        "  mylist_sum = number + mylist_sum\n",
        "  print(mylist_sum)"
      ],
      "execution_count": 5,
      "outputs": [
        {
          "output_type": "stream",
          "text": [
            "1\n",
            "3\n",
            "6\n",
            "10\n",
            "15\n",
            "21\n",
            "28\n",
            "36\n",
            "45\n",
            "55\n"
          ],
          "name": "stdout"
        }
      ]
    },
    {
      "metadata": {
        "id": "fvAMvJfMo8Sr",
        "colab_type": "code",
        "colab": {
          "base_uri": "https://localhost:8080/",
          "height": 289
        },
        "outputId": "39e0a5bb-bb20-4524-e205-e24bf411052e"
      },
      "cell_type": "code",
      "source": [
        "for letter in ('this is a string'):\n",
        "  print(letter)"
      ],
      "execution_count": 8,
      "outputs": [
        {
          "output_type": "stream",
          "text": [
            "t\n",
            "h\n",
            "i\n",
            "s\n",
            " \n",
            "i\n",
            "s\n",
            " \n",
            "a\n",
            " \n",
            "s\n",
            "t\n",
            "r\n",
            "i\n",
            "n\n",
            "g\n"
          ],
          "name": "stdout"
        }
      ]
    },
    {
      "metadata": {
        "id": "NEs0dAGLpXOx",
        "colab_type": "code",
        "colab": {
          "base_uri": "https://localhost:8080/",
          "height": 102
        },
        "outputId": "181a3ff8-fa86-4f97-d6ab-b41bf6c876b7"
      },
      "cell_type": "code",
      "source": [
        "tup = (1, 2, 3, 4, 5)\n",
        "\n",
        "for t in tup:\n",
        "  print(t)"
      ],
      "execution_count": 9,
      "outputs": [
        {
          "output_type": "stream",
          "text": [
            "1\n",
            "2\n",
            "3\n",
            "4\n",
            "5\n"
          ],
          "name": "stdout"
        }
      ]
    },
    {
      "metadata": {
        "id": "3qzHJScxpgQl",
        "colab_type": "code",
        "colab": {
          "base_uri": "https://localhost:8080/",
          "height": 68
        },
        "outputId": "36e1711d-ac2b-4bd9-e04e-9cc9dd68183d"
      },
      "cell_type": "code",
      "source": [
        "second_list = [(1, 2, 3), (4, 5, 6), (7, 8, 9)]\n",
        "\n",
        "for tup in second_list:\n",
        "  print(tup)"
      ],
      "execution_count": 11,
      "outputs": [
        {
          "output_type": "stream",
          "text": [
            "(1, 2, 3)\n",
            "(4, 5, 6)\n",
            "(7, 8, 9)\n"
          ],
          "name": "stdout"
        }
      ]
    },
    {
      "metadata": {
        "id": "zKZhaN--qqNG",
        "colab_type": "code",
        "colab": {
          "base_uri": "https://localhost:8080/",
          "height": 68
        },
        "outputId": "802da34d-8f96-4b1c-8969-3852d947a7b4"
      },
      "cell_type": "code",
      "source": [
        "d = {'k1': 1, 'k2': 2, 'k3': 3}\n",
        "\n",
        "for k in d:\n",
        "  print(k)"
      ],
      "execution_count": 21,
      "outputs": [
        {
          "output_type": "stream",
          "text": [
            "k1\n",
            "k2\n",
            "k3\n"
          ],
          "name": "stdout"
        }
      ]
    },
    {
      "metadata": {
        "id": "4De6LA1cq9hD",
        "colab_type": "code",
        "colab": {
          "base_uri": "https://localhost:8080/",
          "height": 34
        },
        "outputId": "bc3290d8-d0bb-47f4-c747-b8dd13bc805d"
      },
      "cell_type": "code",
      "source": [
        "d.items()"
      ],
      "execution_count": 22,
      "outputs": [
        {
          "output_type": "execute_result",
          "data": {
            "text/plain": [
              "dict_items([('k1', 1), ('k2', 2), ('k3', 3)])"
            ]
          },
          "metadata": {
            "tags": []
          },
          "execution_count": 22
        }
      ]
    },
    {
      "metadata": {
        "id": "T2nVPq7-rHJ5",
        "colab_type": "code",
        "colab": {
          "base_uri": "https://localhost:8080/",
          "height": 68
        },
        "outputId": "0a49874a-18c0-49f4-a9b0-4bf5718ef566"
      },
      "cell_type": "code",
      "source": [
        "for k, v in d.items():\n",
        "  print(k, v)"
      ],
      "execution_count": 29,
      "outputs": [
        {
          "output_type": "stream",
          "text": [
            "k1 1\n",
            "k2 2\n",
            "k3 3\n"
          ],
          "name": "stdout"
        }
      ]
    },
    {
      "metadata": {
        "id": "s0vgfIhFrMFw",
        "colab_type": "code",
        "colab": {
          "base_uri": "https://localhost:8080/",
          "height": 34
        },
        "outputId": "b0a350de-701a-4259-b26e-df0347d878f7"
      },
      "cell_type": "code",
      "source": [
        "d.values()"
      ],
      "execution_count": 24,
      "outputs": [
        {
          "output_type": "execute_result",
          "data": {
            "text/plain": [
              "dict_values([1, 2, 3])"
            ]
          },
          "metadata": {
            "tags": []
          },
          "execution_count": 24
        }
      ]
    },
    {
      "metadata": {
        "id": "9fxixcnkrXFQ",
        "colab_type": "code",
        "colab": {
          "base_uri": "https://localhost:8080/",
          "height": 68
        },
        "outputId": "75fa668a-6fae-4aef-db5e-edaa920f3991"
      },
      "cell_type": "code",
      "source": [
        "for v in d.values():\n",
        "  print(v)"
      ],
      "execution_count": 27,
      "outputs": [
        {
          "output_type": "stream",
          "text": [
            "1\n",
            "2\n",
            "3\n"
          ],
          "name": "stdout"
        }
      ]
    },
    {
      "metadata": {
        "id": "YbO3epaUrdue",
        "colab_type": "code",
        "colab": {}
      },
      "cell_type": "code",
      "source": [
        ""
      ],
      "execution_count": 0,
      "outputs": []
    }
  ]
}