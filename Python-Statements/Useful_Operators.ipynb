{
  "nbformat": 4,
  "nbformat_minor": 0,
  "metadata": {
    "colab": {
      "name": "Useful-Operators.ipynb",
      "version": "0.3.2",
      "provenance": [],
      "include_colab_link": true
    },
    "kernelspec": {
      "name": "python3",
      "display_name": "Python 3"
    }
  },
  "cells": [
    {
      "cell_type": "markdown",
      "metadata": {
        "id": "view-in-github",
        "colab_type": "text"
      },
      "source": [
        "<a href=\"https://colab.research.google.com/github/franckalain/Python-Programming/blob/master/Python-Statements/Useful_Operators.ipynb\" target=\"_parent\"><img src=\"https://colab.research.google.com/assets/colab-badge.svg\" alt=\"Open In Colab\"/></a>"
      ]
    },
    {
      "metadata": {
        "id": "X8kY7QHdc7tQ",
        "colab_type": "text"
      },
      "cell_type": "markdown",
      "source": [
        "### Useful Operators\n",
        "There are a few built-in functions and \"operators\" in Python that don't fit well into any category, so we will go over them in this lecture, let's begin!"
      ]
    },
    {
      "metadata": {
        "id": "Ntmk3pBcdCTF",
        "colab_type": "text"
      },
      "cell_type": "markdown",
      "source": [
        "### range\n",
        "The range function allows you to quickly generate a list of integers, this comes in handy a lot, so take note of how to use it! There are 3 parameters you can pass, a start, a stop, and a step size"
      ]
    },
    {
      "metadata": {
        "id": "cr15XSB9dD_B",
        "colab_type": "code",
        "colab": {
          "base_uri": "https://localhost:8080/",
          "height": 34
        },
        "outputId": "5a5379f1-43ac-438f-f772-51ad39a2b6bf"
      },
      "cell_type": "code",
      "source": [
        "range(0, 11)"
      ],
      "execution_count": 1,
      "outputs": [
        {
          "output_type": "execute_result",
          "data": {
            "text/plain": [
              "range(0, 11)"
            ]
          },
          "metadata": {
            "tags": []
          },
          "execution_count": 1
        }
      ]
    },
    {
      "metadata": {
        "id": "_exB831XdG5l",
        "colab_type": "code",
        "colab": {
          "base_uri": "https://localhost:8080/",
          "height": 34
        },
        "outputId": "3f8722a8-61d1-48db-9c50-8e5047cf19bd"
      },
      "cell_type": "code",
      "source": [
        "list(range(0, 11))"
      ],
      "execution_count": 2,
      "outputs": [
        {
          "output_type": "execute_result",
          "data": {
            "text/plain": [
              "[0, 1, 2, 3, 4, 5, 6, 7, 8, 9, 10]"
            ]
          },
          "metadata": {
            "tags": []
          },
          "execution_count": 2
        }
      ]
    },
    {
      "metadata": {
        "id": "MD_VG1rfdP7i",
        "colab_type": "text"
      },
      "cell_type": "markdown",
      "source": [
        "### enumerate\n",
        "enumerate is a very useful function to use with for loops. Let's imagine the following situation"
      ]
    },
    {
      "metadata": {
        "id": "LfNIN5E4dTJA",
        "colab_type": "code",
        "colab": {
          "base_uri": "https://localhost:8080/",
          "height": 102
        },
        "outputId": "ad892773-085e-4142-cd08-83f41478a0a4"
      },
      "cell_type": "code",
      "source": [
        "for i,letter in enumerate('abcde'):\n",
        "    print(\"At index {} the letter is {}\".format(i,letter))"
      ],
      "execution_count": 3,
      "outputs": [
        {
          "output_type": "stream",
          "text": [
            "At index 0 the letter is a\n",
            "At index 1 the letter is b\n",
            "At index 2 the letter is c\n",
            "At index 3 the letter is d\n",
            "At index 4 the letter is e\n"
          ],
          "name": "stdout"
        }
      ]
    },
    {
      "metadata": {
        "id": "a7ZslU-SdX9J",
        "colab_type": "text"
      },
      "cell_type": "markdown",
      "source": [
        "### zip\n",
        "Notice the format enumerate actually returns, let's take a look by transforming it to a list()"
      ]
    },
    {
      "metadata": {
        "id": "G-bQHHhwdeML",
        "colab_type": "code",
        "colab": {
          "base_uri": "https://localhost:8080/",
          "height": 34
        },
        "outputId": "5979d7dd-fc3a-49b0-e11d-0b79fa64ff9d"
      },
      "cell_type": "code",
      "source": [
        "list(enumerate('abcde'))"
      ],
      "execution_count": 4,
      "outputs": [
        {
          "output_type": "execute_result",
          "data": {
            "text/plain": [
              "[(0, 'a'), (1, 'b'), (2, 'c'), (3, 'd'), (4, 'e')]"
            ]
          },
          "metadata": {
            "tags": []
          },
          "execution_count": 4
        }
      ]
    },
    {
      "metadata": {
        "id": "KC8xmFLwdjWd",
        "colab_type": "code",
        "colab": {}
      },
      "cell_type": "code",
      "source": [
        "list1 = [1, 2, 3, 4, 5]\n",
        "list2 = ['a', 'b', 'c', 'd', 'e']"
      ],
      "execution_count": 0,
      "outputs": []
    },
    {
      "metadata": {
        "id": "uahns4dkdrnv",
        "colab_type": "code",
        "colab": {
          "base_uri": "https://localhost:8080/",
          "height": 34
        },
        "outputId": "43e7c0ff-ef9c-4501-e3a7-b684f7c6c2f6"
      },
      "cell_type": "code",
      "source": [
        "list(zip(list1, list2))"
      ],
      "execution_count": 6,
      "outputs": [
        {
          "output_type": "execute_result",
          "data": {
            "text/plain": [
              "[(1, 'a'), (2, 'b'), (3, 'c'), (4, 'd'), (5, 'e')]"
            ]
          },
          "metadata": {
            "tags": []
          },
          "execution_count": 6
        }
      ]
    },
    {
      "metadata": {
        "id": "pZW2mnIpdwK1",
        "colab_type": "code",
        "colab": {
          "base_uri": "https://localhost:8080/",
          "height": 102
        },
        "outputId": "ffa92d1f-d314-44d4-d2d5-6affc271b4fa"
      },
      "cell_type": "code",
      "source": [
        "for item1, item2 in zip(list1, list2):\n",
        "  print('{} {}'. format(item1, item2))"
      ],
      "execution_count": 7,
      "outputs": [
        {
          "output_type": "stream",
          "text": [
            "1 a\n",
            "2 b\n",
            "3 c\n",
            "4 d\n",
            "5 e\n"
          ],
          "name": "stdout"
        }
      ]
    },
    {
      "metadata": {
        "id": "1jT5vClZeWrW",
        "colab_type": "text"
      },
      "cell_type": "markdown",
      "source": [
        "### in operator\n",
        "We've already seen the in keyword durng the for loop, but we can also use it to quickly check if an object is in a list"
      ]
    },
    {
      "metadata": {
        "id": "NGP46PbSecP1",
        "colab_type": "code",
        "colab": {
          "base_uri": "https://localhost:8080/",
          "height": 34
        },
        "outputId": "f5af627c-bb8c-44aa-b30c-7172c6a55888"
      },
      "cell_type": "code",
      "source": [
        "'x' in ['y', 'w', 'z']"
      ],
      "execution_count": 9,
      "outputs": [
        {
          "output_type": "execute_result",
          "data": {
            "text/plain": [
              "False"
            ]
          },
          "metadata": {
            "tags": []
          },
          "execution_count": 9
        }
      ]
    },
    {
      "metadata": {
        "id": "nahQeRR_ehQ-",
        "colab_type": "code",
        "colab": {
          "base_uri": "https://localhost:8080/",
          "height": 34
        },
        "outputId": "9aa1ef71-bd99-448d-f31e-b65a1a467ad0"
      },
      "cell_type": "code",
      "source": [
        "1 in [1, 2, 4, 5]"
      ],
      "execution_count": 10,
      "outputs": [
        {
          "output_type": "execute_result",
          "data": {
            "text/plain": [
              "True"
            ]
          },
          "metadata": {
            "tags": []
          },
          "execution_count": 10
        }
      ]
    },
    {
      "metadata": {
        "id": "kccPMBWQeutc",
        "colab_type": "text"
      },
      "cell_type": "markdown",
      "source": [
        "### min and max\n",
        "Quickly check the minimum or maximum of a list with these functions."
      ]
    },
    {
      "metadata": {
        "id": "HmXd-9kuex6Q",
        "colab_type": "code",
        "colab": {}
      },
      "cell_type": "code",
      "source": [
        "mylist = [10, 20, 30, 40, 50]"
      ],
      "execution_count": 0,
      "outputs": []
    },
    {
      "metadata": {
        "id": "ZzDf6EZue2Qe",
        "colab_type": "code",
        "colab": {
          "base_uri": "https://localhost:8080/",
          "height": 34
        },
        "outputId": "026225db-bc18-4b0d-c231-e3eb10a57ed3"
      },
      "cell_type": "code",
      "source": [
        "min(mylist)"
      ],
      "execution_count": 14,
      "outputs": [
        {
          "output_type": "execute_result",
          "data": {
            "text/plain": [
              "10"
            ]
          },
          "metadata": {
            "tags": []
          },
          "execution_count": 14
        }
      ]
    },
    {
      "metadata": {
        "id": "Zv9hSoQle_Xq",
        "colab_type": "code",
        "colab": {
          "base_uri": "https://localhost:8080/",
          "height": 34
        },
        "outputId": "a06c3dee-4861-4bbf-d6cd-70cb5482a137"
      },
      "cell_type": "code",
      "source": [
        "max(mylist)"
      ],
      "execution_count": 15,
      "outputs": [
        {
          "output_type": "execute_result",
          "data": {
            "text/plain": [
              "50"
            ]
          },
          "metadata": {
            "tags": []
          },
          "execution_count": 15
        }
      ]
    },
    {
      "metadata": {
        "id": "pQ77hMvqfDwt",
        "colab_type": "text"
      },
      "cell_type": "markdown",
      "source": [
        "### random\n",
        "Python comes with a built in random library. There are a lot of functions included in this random library, so we will only show you two useful functions for now."
      ]
    },
    {
      "metadata": {
        "id": "nnV8os2qfFqH",
        "colab_type": "code",
        "colab": {}
      },
      "cell_type": "code",
      "source": [
        "from random import shuffle"
      ],
      "execution_count": 0,
      "outputs": []
    },
    {
      "metadata": {
        "id": "cHx5Ez_OfH3m",
        "colab_type": "code",
        "colab": {}
      },
      "cell_type": "code",
      "source": [
        "shuffle(mylist)"
      ],
      "execution_count": 0,
      "outputs": []
    },
    {
      "metadata": {
        "id": "lxlCvXC9fPBt",
        "colab_type": "code",
        "colab": {
          "base_uri": "https://localhost:8080/",
          "height": 34
        },
        "outputId": "c9e8c301-df4b-4f0e-ed7b-6b75a7ddfc18"
      },
      "cell_type": "code",
      "source": [
        "mylist"
      ],
      "execution_count": 19,
      "outputs": [
        {
          "output_type": "execute_result",
          "data": {
            "text/plain": [
              "[10, 50, 30, 20, 40]"
            ]
          },
          "metadata": {
            "tags": []
          },
          "execution_count": 19
        }
      ]
    },
    {
      "metadata": {
        "id": "ts2XVJYvfR14",
        "colab_type": "code",
        "colab": {}
      },
      "cell_type": "code",
      "source": [
        "from random import randint"
      ],
      "execution_count": 0,
      "outputs": []
    },
    {
      "metadata": {
        "id": "yQ76yLvbfWeF",
        "colab_type": "code",
        "colab": {
          "base_uri": "https://localhost:8080/",
          "height": 34
        },
        "outputId": "80ecd779-3de6-4ae8-bc60-82f90e535c66"
      },
      "cell_type": "code",
      "source": [
        "randint(0,100)"
      ],
      "execution_count": 22,
      "outputs": [
        {
          "output_type": "execute_result",
          "data": {
            "text/plain": [
              "31"
            ]
          },
          "metadata": {
            "tags": []
          },
          "execution_count": 22
        }
      ]
    },
    {
      "metadata": {
        "id": "6i-drysIfh5i",
        "colab_type": "text"
      },
      "cell_type": "markdown",
      "source": [
        "### input"
      ]
    },
    {
      "metadata": {
        "id": "4Pb74UdBfmce",
        "colab_type": "code",
        "colab": {
          "base_uri": "https://localhost:8080/",
          "height": 51
        },
        "outputId": "7f840966-770f-405d-f816-9e397eb3cdcc"
      },
      "cell_type": "code",
      "source": [
        "input('What is your name: ')"
      ],
      "execution_count": 24,
      "outputs": [
        {
          "output_type": "stream",
          "text": [
            "Enter your name: Franck\n"
          ],
          "name": "stdout"
        },
        {
          "output_type": "execute_result",
          "data": {
            "text/plain": [
              "'Franck'"
            ]
          },
          "metadata": {
            "tags": []
          },
          "execution_count": 24
        }
      ]
    },
    {
      "metadata": {
        "id": "fnKApFy8fna2",
        "colab_type": "code",
        "colab": {}
      },
      "cell_type": "code",
      "source": [
        ""
      ],
      "execution_count": 0,
      "outputs": []
    }
  ]
}