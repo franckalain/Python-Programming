{
  "nbformat": 4,
  "nbformat_minor": 0,
  "metadata": {
    "colab": {
      "name": "statements_assessment.ipynb",
      "version": "0.3.2",
      "provenance": [],
      "include_colab_link": true
    },
    "kernelspec": {
      "name": "python3",
      "display_name": "Python 3"
    }
  },
  "cells": [
    {
      "cell_type": "markdown",
      "metadata": {
        "id": "view-in-github",
        "colab_type": "text"
      },
      "source": [
        "<a href=\"https://colab.research.google.com/github/franckalain/Python-Programming/blob/master/Python-Statements/statements_assessment.ipynb\" target=\"_parent\"><img src=\"https://colab.research.google.com/assets/colab-badge.svg\" alt=\"Open In Colab\"/></a>"
      ]
    },
    {
      "metadata": {
        "id": "DDzpq5FyiIYk",
        "colab_type": "code",
        "colab": {
          "base_uri": "https://localhost:8080/",
          "height": 68
        },
        "outputId": "cfae9566-a665-49ca-de9b-a72c67b9a31b"
      },
      "cell_type": "code",
      "source": [
        "# Use for, .split(), and if to create a Statement that will print out words that start with 's':\n",
        "\n",
        "st = 'Print only the words that start with s in this sentence'\n",
        "\n",
        "for word in st.split():\n",
        "  if word[0] == 's':\n",
        "    print(word)"
      ],
      "execution_count": 19,
      "outputs": [
        {
          "output_type": "stream",
          "text": [
            "start\n",
            "s\n",
            "sentence\n"
          ],
          "name": "stdout"
        }
      ]
    },
    {
      "metadata": {
        "id": "JcQplt0Lo96M",
        "colab_type": "code",
        "colab": {
          "base_uri": "https://localhost:8080/",
          "height": 34
        },
        "outputId": "a461c1e5-e7c1-4549-f959-6157f415cbef"
      },
      "cell_type": "code",
      "source": [
        "# Use range() to print all the even numbers from 0 to 10\n",
        "[x for x in range(0, 10) if x % 2 == 0]"
      ],
      "execution_count": 22,
      "outputs": [
        {
          "output_type": "execute_result",
          "data": {
            "text/plain": [
              "[0, 2, 4, 6, 8]"
            ]
          },
          "metadata": {
            "tags": []
          },
          "execution_count": 22
        }
      ]
    },
    {
      "metadata": {
        "id": "HgrS0CLPpNtc",
        "colab_type": "code",
        "colab": {
          "base_uri": "https://localhost:8080/",
          "height": 34
        },
        "outputId": "7a15236d-2f16-4611-c5dc-ce76c9072acc"
      },
      "cell_type": "code",
      "source": [
        "list(range(0, 11, 2))"
      ],
      "execution_count": 23,
      "outputs": [
        {
          "output_type": "execute_result",
          "data": {
            "text/plain": [
              "[0, 2, 4, 6, 8, 10]"
            ]
          },
          "metadata": {
            "tags": []
          },
          "execution_count": 23
        }
      ]
    },
    {
      "metadata": {
        "id": "uxmFP9NKioT9",
        "colab_type": "code",
        "colab": {
          "base_uri": "https://localhost:8080/",
          "height": 34
        },
        "outputId": "92e2f831-21f8-4311-8881-cd2d839175a7"
      },
      "cell_type": "code",
      "source": [
        "# Use a List Comprehension to create a list of all numbers between 1 and 50 that are divisible by 3\n",
        "\n",
        "[x for x in range(1, 50) if x%3 == 0]"
      ],
      "execution_count": 17,
      "outputs": [
        {
          "output_type": "execute_result",
          "data": {
            "text/plain": [
              "[3, 6, 9, 12, 15, 18, 21, 24, 27, 30, 33, 36, 39, 42, 45, 48]"
            ]
          },
          "metadata": {
            "tags": []
          },
          "execution_count": 17
        }
      ]
    },
    {
      "metadata": {
        "id": "o-OSw6T8pZ_i",
        "colab_type": "code",
        "colab": {
          "base_uri": "https://localhost:8080/",
          "height": 170
        },
        "outputId": "2e1b392c-49c8-4536-b8f6-7dc97a71ceb0"
      },
      "cell_type": "code",
      "source": [
        "# Go through the string below and if the length of a word is even print \"even!\"\n",
        "st = 'Print every word in this sentence that has an even number of letters'\n",
        "\n",
        "for word in st.split():\n",
        "  if len(word) % 2 == 0:\n",
        "    print(word)"
      ],
      "execution_count": 24,
      "outputs": [
        {
          "output_type": "stream",
          "text": [
            "word\n",
            "in\n",
            "this\n",
            "sentence\n",
            "that\n",
            "an\n",
            "even\n",
            "number\n",
            "of\n"
          ],
          "name": "stdout"
        }
      ]
    },
    {
      "metadata": {
        "id": "s3rgV_tWjkLz",
        "colab_type": "code",
        "colab": {
          "base_uri": "https://localhost:8080/",
          "height": 34
        },
        "outputId": "677d80de-2bcc-4728-d20a-a7f6c8e07960"
      },
      "cell_type": "code",
      "source": [
        "mylist"
      ],
      "execution_count": 7,
      "outputs": [
        {
          "output_type": "execute_result",
          "data": {
            "text/plain": [
              "[]"
            ]
          },
          "metadata": {
            "tags": []
          },
          "execution_count": 7
        }
      ]
    },
    {
      "metadata": {
        "id": "habYruqPjlXk",
        "colab_type": "code",
        "colab": {
          "base_uri": "https://localhost:8080/",
          "height": 238
        },
        "outputId": "9f4e46d6-2111-4677-adc1-416d1ca5b81d"
      },
      "cell_type": "code",
      "source": [
        "# Go through the string below and if the length of a word is even print \"even!\"\n",
        "\n",
        "st = 'Print every word in this sentence that has an even number of letters'\n",
        "st.split()"
      ],
      "execution_count": 18,
      "outputs": [
        {
          "output_type": "execute_result",
          "data": {
            "text/plain": [
              "['Print',\n",
              " 'every',\n",
              " 'word',\n",
              " 'in',\n",
              " 'this',\n",
              " 'sentence',\n",
              " 'that',\n",
              " 'has',\n",
              " 'an',\n",
              " 'even',\n",
              " 'number',\n",
              " 'of',\n",
              " 'letters']"
            ]
          },
          "metadata": {
            "tags": []
          },
          "execution_count": 18
        }
      ]
    },
    {
      "metadata": {
        "id": "6zyUhtKYkLfF",
        "colab_type": "code",
        "colab": {
          "base_uri": "https://localhost:8080/",
          "height": 34
        },
        "outputId": "4961d35b-b639-427c-d365-b96ac15267c9"
      },
      "cell_type": "code",
      "source": [
        "# Use a List Comprehension to create a list of the first letters of every word in the string below:\n",
        "\n",
        "st = 'Create a list of the first letters of every word in this string'\n",
        "\n",
        "\n",
        "[word[0] for word in st.split()]"
      ],
      "execution_count": 25,
      "outputs": [
        {
          "output_type": "execute_result",
          "data": {
            "text/plain": [
              "['C', 'a', 'l', 'o', 't', 'f', 'l', 'o', 'e', 'w', 'i', 't', 's']"
            ]
          },
          "metadata": {
            "tags": []
          },
          "execution_count": 25
        }
      ]
    },
    {
      "metadata": {
        "id": "wuSosORlkY4D",
        "colab_type": "code",
        "colab": {
          "base_uri": "https://localhost:8080/",
          "height": 1700
        },
        "outputId": "b3f323e1-b493-4968-b366-103b5c265d98"
      },
      "cell_type": "code",
      "source": [
        "# Write a program that prints the integers from 1 to 100. But for multiples of three print \"Fizz\" instead of the number, and for the multiples of five print \"Buzz\". For numbers which are multiples of both three and five print \"FizzBuzz\".\n",
        "\n",
        "for number in range(1, 100):\n",
        "  if number % 3 == 0:\n",
        "    print('Fizz')\n",
        "  elif number % 5 == 0:\n",
        "    print('Buzz')\n",
        "  else:\n",
        "    print('number')"
      ],
      "execution_count": 29,
      "outputs": [
        {
          "output_type": "stream",
          "text": [
            "number\n",
            "number\n",
            "Fizz\n",
            "number\n",
            "Buzz\n",
            "Fizz\n",
            "number\n",
            "number\n",
            "Fizz\n",
            "Buzz\n",
            "number\n",
            "Fizz\n",
            "number\n",
            "number\n",
            "Fizz\n",
            "number\n",
            "number\n",
            "Fizz\n",
            "number\n",
            "Buzz\n",
            "Fizz\n",
            "number\n",
            "number\n",
            "Fizz\n",
            "Buzz\n",
            "number\n",
            "Fizz\n",
            "number\n",
            "number\n",
            "Fizz\n",
            "number\n",
            "number\n",
            "Fizz\n",
            "number\n",
            "Buzz\n",
            "Fizz\n",
            "number\n",
            "number\n",
            "Fizz\n",
            "Buzz\n",
            "number\n",
            "Fizz\n",
            "number\n",
            "number\n",
            "Fizz\n",
            "number\n",
            "number\n",
            "Fizz\n",
            "number\n",
            "Buzz\n",
            "Fizz\n",
            "number\n",
            "number\n",
            "Fizz\n",
            "Buzz\n",
            "number\n",
            "Fizz\n",
            "number\n",
            "number\n",
            "Fizz\n",
            "number\n",
            "number\n",
            "Fizz\n",
            "number\n",
            "Buzz\n",
            "Fizz\n",
            "number\n",
            "number\n",
            "Fizz\n",
            "Buzz\n",
            "number\n",
            "Fizz\n",
            "number\n",
            "number\n",
            "Fizz\n",
            "number\n",
            "number\n",
            "Fizz\n",
            "number\n",
            "Buzz\n",
            "Fizz\n",
            "number\n",
            "number\n",
            "Fizz\n",
            "Buzz\n",
            "number\n",
            "Fizz\n",
            "number\n",
            "number\n",
            "Fizz\n",
            "number\n",
            "number\n",
            "Fizz\n",
            "number\n",
            "Buzz\n",
            "Fizz\n",
            "number\n",
            "number\n",
            "Fizz\n"
          ],
          "name": "stdout"
        }
      ]
    },
    {
      "metadata": {
        "id": "TDCevah1qlLX",
        "colab_type": "code",
        "colab": {}
      },
      "cell_type": "code",
      "source": [
        ""
      ],
      "execution_count": 0,
      "outputs": []
    }
  ]
}