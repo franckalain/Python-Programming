{
  "nbformat": 4,
  "nbformat_minor": 0,
  "metadata": {
    "colab": {
      "name": "while_loops.ipynb",
      "version": "0.3.2",
      "provenance": [],
      "include_colab_link": true
    },
    "kernelspec": {
      "name": "python3",
      "display_name": "Python 3"
    }
  },
  "cells": [
    {
      "cell_type": "markdown",
      "metadata": {
        "id": "view-in-github",
        "colab_type": "text"
      },
      "source": [
        "<a href=\"https://colab.research.google.com/github/franckalain/Python-Programming/blob/master/Python-Statements/while_loops.ipynb\" target=\"_parent\"><img src=\"https://colab.research.google.com/assets/colab-badge.svg\" alt=\"Open In Colab\"/></a>"
      ]
    },
    {
      "metadata": {
        "id": "Vxinodq0t94E",
        "colab_type": "text"
      },
      "cell_type": "markdown",
      "source": [
        "### while Loops\n",
        "\n",
        "The while statement in Python is one of most general ways to perform iteration. A while statement will repeatedly execute a single statement or group of statements as long as the condition is true. The reason it is called a 'loop' is because the code statements are looped through over and over again until the condition is no longer met.\n",
        "\n",
        "The general format of a while loop is:\n",
        "\n",
        "while test:\n",
        "    code statements\n",
        "else:\n",
        "    final code statements"
      ]
    },
    {
      "metadata": {
        "id": "T7euMNWxuJjv",
        "colab_type": "code",
        "outputId": "9cc73d76-0536-43d7-ba42-44837fc8e073",
        "colab": {
          "base_uri": "https://localhost:8080/",
          "height": 527
        }
      },
      "cell_type": "code",
      "source": [
        "x = 0\n",
        "\n",
        "while x < 10:\n",
        "    print('x is currently: ',x)\n",
        "    print(' x is still less than 10, adding 1 to x')\n",
        "    x+=1\n",
        "    if x == 3:\n",
        "      print('breaking because x = 3')\n",
        "      pass\n",
        "    else:\n",
        "      print('continuse')\n",
        "      continue"
      ],
      "execution_count": 3,
      "outputs": [
        {
          "output_type": "stream",
          "text": [
            "x is currently:  0\n",
            " x is still less than 10, adding 1 to x\n",
            "continuse\n",
            "x is currently:  1\n",
            " x is still less than 10, adding 1 to x\n",
            "continuse\n",
            "x is currently:  2\n",
            " x is still less than 10, adding 1 to x\n",
            "breaking because x = 3\n",
            "x is currently:  3\n",
            " x is still less than 10, adding 1 to x\n",
            "continuse\n",
            "x is currently:  4\n",
            " x is still less than 10, adding 1 to x\n",
            "continuse\n",
            "x is currently:  5\n",
            " x is still less than 10, adding 1 to x\n",
            "continuse\n",
            "x is currently:  6\n",
            " x is still less than 10, adding 1 to x\n",
            "continuse\n",
            "x is currently:  7\n",
            " x is still less than 10, adding 1 to x\n",
            "continuse\n",
            "x is currently:  8\n",
            " x is still less than 10, adding 1 to x\n",
            "continuse\n",
            "x is currently:  9\n",
            " x is still less than 10, adding 1 to x\n",
            "continuse\n"
          ],
          "name": "stdout"
        }
      ]
    },
    {
      "metadata": {
        "id": "eLG_XwdvucMF",
        "colab_type": "code",
        "colab": {
          "base_uri": "https://localhost:8080/",
          "height": 170
        },
        "outputId": "7bbace76-966e-4fca-9b2e-9f1d95802c12"
      },
      "cell_type": "code",
      "source": [
        "x = 0\n",
        "\n",
        "while x < 10:\n",
        "    print('x is currently: ',x)\n",
        "    print(' x is still less than 10, adding 1 to x')\n",
        "    x+=1\n",
        "    if x == 3:\n",
        "      print('breaking because x = 3')\n",
        "      break\n",
        "    else:\n",
        "      print('continuse')\n",
        "      continue"
      ],
      "execution_count": 4,
      "outputs": [
        {
          "output_type": "stream",
          "text": [
            "x is currently:  0\n",
            " x is still less than 10, adding 1 to x\n",
            "continuse\n",
            "x is currently:  1\n",
            " x is still less than 10, adding 1 to x\n",
            "continuse\n",
            "x is currently:  2\n",
            " x is still less than 10, adding 1 to x\n",
            "breaking because x = 3\n"
          ],
          "name": "stdout"
        }
      ]
    },
    {
      "metadata": {
        "id": "rj5RePSM-BpG",
        "colab_type": "code",
        "colab": {
          "base_uri": "https://localhost:8080/",
          "height": 204
        },
        "outputId": "dda4730c-4d75-403b-d81b-c910cf2b2cb9"
      },
      "cell_type": "code",
      "source": [
        "x = 0\n",
        "\n",
        "while x < 20:\n",
        "  print('x is currently', x)\n",
        "  print('x has a new value')\n",
        "  x += 1\n",
        "  if x == 5:\n",
        "    print('the while loops stop here')\n",
        "    break\n",
        "  else:\n",
        "    continue"
      ],
      "execution_count": 11,
      "outputs": [
        {
          "output_type": "stream",
          "text": [
            "x is currently 0\n",
            "x has a new value\n",
            "x is currently 1\n",
            "x has a new value\n",
            "x is currently 2\n",
            "x has a new value\n",
            "x is currently 3\n",
            "x has a new value\n",
            "x is currently 4\n",
            "x has a new value\n",
            "the while loops stop here\n"
          ],
          "name": "stdout"
        }
      ]
    },
    {
      "metadata": {
        "id": "KZIG0VcH_T2z",
        "colab_type": "code",
        "colab": {}
      },
      "cell_type": "code",
      "source": [
        ""
      ],
      "execution_count": 0,
      "outputs": []
    }
  ]
}