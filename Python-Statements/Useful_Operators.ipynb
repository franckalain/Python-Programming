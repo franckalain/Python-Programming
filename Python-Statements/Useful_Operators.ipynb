{
  "nbformat": 4,
  "nbformat_minor": 0,
  "metadata": {
    "colab": {
      "name": "Useful-Operators.ipynb",
      "version": "0.3.2",
      "provenance": [],
      "include_colab_link": true
    },
    "kernelspec": {
      "name": "python3",
      "display_name": "Python 3"
    }
  },
  "cells": [
    {
      "cell_type": "markdown",
      "metadata": {
        "id": "view-in-github",
        "colab_type": "text"
      },
      "source": [
        "<a href=\"https://colab.research.google.com/github/franckalain/Python-Programming/blob/master/Python-Statements/Useful_Operators.ipynb\" target=\"_parent\"><img src=\"https://colab.research.google.com/assets/colab-badge.svg\" alt=\"Open In Colab\"/></a>"
      ]
    },
    {
      "metadata": {
        "id": "X8kY7QHdc7tQ",
        "colab_type": "text"
      },
      "cell_type": "markdown",
      "source": [
        "### Useful Operators\n",
        "There are a few built-in functions and \"operators\" in Python that don't fit well into any category, so we will go over them in this lecture, let's begin!"
      ]
    },
    {
      "metadata": {
        "id": "Ntmk3pBcdCTF",
        "colab_type": "text"
      },
      "cell_type": "markdown",
      "source": [
        "### range\n",
        "The range function allows you to quickly generate a list of integers, this comes in handy a lot, so take note of how to use it! There are 3 parameters you can pass, a start, a stop, and a step size"
      ]
    },
    {
      "metadata": {
        "id": "cr15XSB9dD_B",
        "colab_type": "code",
        "colab": {
          "base_uri": "https://localhost:8080/",
          "height": 34
        },
        "outputId": "5a5379f1-43ac-438f-f772-51ad39a2b6bf"
      },
      "cell_type": "code",
      "source": [
        "range(0, 11)"
      ],
      "execution_count": 1,
      "outputs": [
        {
          "output_type": "execute_result",
          "data": {
            "text/plain": [
              "range(0, 11)"
            ]
          },
          "metadata": {
            "tags": []
          },
          "execution_count": 1
        }
      ]
    },
    {
      "metadata": {
        "id": "_exB831XdG5l",
        "colab_type": "code",
        "colab": {
          "base_uri": "https://localhost:8080/",
          "height": 34
        },
        "outputId": "3f8722a8-61d1-48db-9c50-8e5047cf19bd"
      },
      "cell_type": "code",
      "source": [
        "list(range(0, 11))"
      ],
      "execution_count": 2,
      "outputs": [
        {
          "output_type": "execute_result",
          "data": {
            "text/plain": [
              "[0, 1, 2, 3, 4, 5, 6, 7, 8, 9, 10]"
            ]
          },
          "metadata": {
            "tags": []
          },
          "execution_count": 2
        }
      ]
    },
    {
      "metadata": {
        "id": "MD_VG1rfdP7i",
        "colab_type": "text"
      },
      "cell_type": "markdown",
      "source": [
        "### enumerate\n",
        "enumerate is a very useful function to use with for loops. Let's imagine the following situation"
      ]
    },
    {
      "metadata": {
        "id": "LfNIN5E4dTJA",
        "colab_type": "code",
        "colab": {
          "base_uri": "https://localhost:8080/",
          "height": 102
        },
        "outputId": "ad892773-085e-4142-cd08-83f41478a0a4"
      },
      "cell_type": "code",
      "source": [
        "for i,letter in enumerate('abcde'):\n",
        "    print(\"At index {} the letter is {}\".format(i,letter))"
      ],
      "execution_count": 3,
      "outputs": [
        {
          "output_type": "stream",
          "text": [
            "At index 0 the letter is a\n",
            "At index 1 the letter is b\n",
            "At index 2 the letter is c\n",
            "At index 3 the letter is d\n",
            "At index 4 the letter is e\n"
          ],
          "name": "stdout"
        }
      ]
    },
    {
      "metadata": {
        "id": "a7ZslU-SdX9J",
        "colab_type": "text"
      },
      "cell_type": "markdown",
      "source": [
        "### zip\n",
        "Notice the format enumerate actually returns, let's take a look by transforming it to a list()"
      ]
    },
    {
      "metadata": {
        "id": "G-bQHHhwdeML",
        "colab_type": "code",
        "colab": {
          "base_uri": "https://localhost:8080/",
          "height": 34
        },
        "outputId": "5979d7dd-fc3a-49b0-e11d-0b79fa64ff9d"
      },
      "cell_type": "code",
      "source": [
        "list(enumerate('abcde'))"
      ],
      "execution_count": 4,
      "outputs": [
        {
          "output_type": "execute_result",
          "data": {
            "text/plain": [
              "[(0, 'a'), (1, 'b'), (2, 'c'), (3, 'd'), (4, 'e')]"
            ]
          },
          "metadata": {
            "tags": []
          },
          "execution_count": 4
        }
      ]
    },
    {
      "metadata": {
        "id": "KC8xmFLwdjWd",
        "colab_type": "code",
        "colab": {}
      },
      "cell_type": "code",
      "source": [
        "list1 = [1, 2, 3, 4, 5]\n",
        "list2 = ['a', 'b', 'c', 'd', 'e']"
      ],
      "execution_count": 0,
      "outputs": []
    },
    {
      "metadata": {
        "id": "uahns4dkdrnv",
        "colab_type": "code",
        "colab": {
          "base_uri": "https://localhost:8080/",
          "height": 34
        },
        "outputId": "43e7c0ff-ef9c-4501-e3a7-b684f7c6c2f6"
      },
      "cell_type": "code",
      "source": [
        "list(zip(list1, list2))"
      ],
      "execution_count": 6,
      "outputs": [
        {
          "output_type": "execute_result",
          "data": {
            "text/plain": [
              "[(1, 'a'), (2, 'b'), (3, 'c'), (4, 'd'), (5, 'e')]"
            ]
          },
          "metadata": {
            "tags": []
          },
          "execution_count": 6
        }
      ]
    },
    {
      "metadata": {
        "id": "pZW2mnIpdwK1",
        "colab_type": "code",
        "colab": {
          "base_uri": "https://localhost:8080/",
          "height": 102
        },
        "outputId": "ffa92d1f-d314-44d4-d2d5-6affc271b4fa"
      },
      "cell_type": "code",
      "source": [
        "for item1, item2 in zip(list1, list2):\n",
        "  print('{} {}'. format(item1, item2))"
      ],
      "execution_count": 7,
      "outputs": [
        {
          "output_type": "stream",
          "text": [
            "1 a\n",
            "2 b\n",
            "3 c\n",
            "4 d\n",
            "5 e\n"
          ],
          "name": "stdout"
        }
      ]
    },
    {
      "metadata": {
        "id": "dGjuseKyd_nc",
        "colab_type": "code",
        "colab": {}
      },
      "cell_type": "code",
      "source": [
        ""
      ],
      "execution_count": 0,
      "outputs": []
    }
  ]
}