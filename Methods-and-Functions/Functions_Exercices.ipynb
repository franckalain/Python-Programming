{
  "nbformat": 4,
  "nbformat_minor": 0,
  "metadata": {
    "colab": {
      "name": "Functions-Exercices.ipynb",
      "version": "0.3.2",
      "provenance": [],
      "include_colab_link": true
    },
    "kernelspec": {
      "name": "python3",
      "display_name": "Python 3"
    }
  },
  "cells": [
    {
      "cell_type": "markdown",
      "metadata": {
        "id": "view-in-github",
        "colab_type": "text"
      },
      "source": [
        "<a href=\"https://colab.research.google.com/github/franckalain/Python-Programming/blob/master/Methods-and-Functions/Functions_Exercices.ipynb\" target=\"_parent\"><img src=\"https://colab.research.google.com/assets/colab-badge.svg\" alt=\"Open In Colab\"/></a>"
      ]
    },
    {
      "metadata": {
        "id": "i6XS5ADjfft6",
        "colab_type": "text"
      },
      "cell_type": "markdown",
      "source": [
        "### LESSER OF TWO EVENS: \n",
        "\n",
        "Write a function that returns the lesser of two given numbers if both numbers are even, but returns the greater if one or both numbers are odd"
      ]
    },
    {
      "metadata": {
        "id": "COwSJdBTfl_o",
        "colab_type": "code",
        "colab": {}
      },
      "cell_type": "code",
      "source": [
        "def lesser_two_event(a, b):\n",
        "  if a % 2 == 0 & b % 2 == 0:\n",
        "    return min(a, b)\n",
        "  else:\n",
        "    return max(a, b)"
      ],
      "execution_count": 0,
      "outputs": []
    },
    {
      "metadata": {
        "id": "cNA2T679f6Oo",
        "colab_type": "code",
        "colab": {
          "base_uri": "https://localhost:8080/",
          "height": 34
        },
        "outputId": "7fe90a18-e32e-48b3-c104-b544cb25caa9"
      },
      "cell_type": "code",
      "source": [
        "lesser_two_event(2, 4)"
      ],
      "execution_count": 18,
      "outputs": [
        {
          "output_type": "execute_result",
          "data": {
            "text/plain": [
              "2"
            ]
          },
          "metadata": {
            "tags": []
          },
          "execution_count": 18
        }
      ]
    },
    {
      "metadata": {
        "id": "9AK8Wu5vgjSd",
        "colab_type": "code",
        "colab": {}
      },
      "cell_type": "code",
      "source": [
        "def lesser_two_event(a, b):\n",
        "  if a % 2 == 0 | b % 2 != 0:\n",
        "    return min(a, b)\n",
        "  else:\n",
        "    return max(a, b)"
      ],
      "execution_count": 0,
      "outputs": []
    },
    {
      "metadata": {
        "id": "xnsRNxWqhPyN",
        "colab_type": "code",
        "colab": {
          "base_uri": "https://localhost:8080/",
          "height": 34
        },
        "outputId": "f2ca5f98-9617-4a75-a78a-7f1074fd1eae"
      },
      "cell_type": "code",
      "source": [
        "lesser_two_event(2, 4)"
      ],
      "execution_count": 20,
      "outputs": [
        {
          "output_type": "execute_result",
          "data": {
            "text/plain": [
              "4"
            ]
          },
          "metadata": {
            "tags": []
          },
          "execution_count": 20
        }
      ]
    },
    {
      "metadata": {
        "id": "U1ypgr3Dhnqs",
        "colab_type": "text"
      },
      "cell_type": "markdown",
      "source": [
        "### ANIMAL CRACKERS: \n",
        "\n",
        "Write a function takes a two-word string and returns True if both words begin with same letter\n",
        "\n",
        "animal_crackers('Levelheaded Llama') --> True\n",
        "animal_crackers('Crazy Kangaroo') --> False"
      ]
    },
    {
      "metadata": {
        "id": "QR_2psrjhsoX",
        "colab_type": "code",
        "colab": {}
      },
      "cell_type": "code",
      "source": [
        "def animal_crackers(text):\n",
        "  word = text.split()\n",
        "  return word[0][0] == word[1][0]\n",
        "  "
      ],
      "execution_count": 0,
      "outputs": []
    },
    {
      "metadata": {
        "id": "TA-H4GGPij5g",
        "colab_type": "code",
        "colab": {
          "base_uri": "https://localhost:8080/",
          "height": 34
        },
        "outputId": "74bdfc5d-46ea-45d5-a306-4835f21b42a6"
      },
      "cell_type": "code",
      "source": [
        "animal_crackers('La banane')"
      ],
      "execution_count": 23,
      "outputs": [
        {
          "output_type": "execute_result",
          "data": {
            "text/plain": [
              "False"
            ]
          },
          "metadata": {
            "tags": []
          },
          "execution_count": 23
        }
      ]
    },
    {
      "metadata": {
        "id": "yfSRp4LuiqgG",
        "colab_type": "code",
        "colab": {
          "base_uri": "https://localhost:8080/",
          "height": 34
        },
        "outputId": "2d9d0a9a-ca15-4a1b-fa82-e6ea7a513c69"
      },
      "cell_type": "code",
      "source": [
        "animal_crackers('La Liste')"
      ],
      "execution_count": 24,
      "outputs": [
        {
          "output_type": "execute_result",
          "data": {
            "text/plain": [
              "True"
            ]
          },
          "metadata": {
            "tags": []
          },
          "execution_count": 24
        }
      ]
    },
    {
      "metadata": {
        "id": "0SLFJhnvi5fm",
        "colab_type": "text"
      },
      "cell_type": "markdown",
      "source": [
        "### MAKES TWENTY: \n",
        "\n",
        "Given two integers, return True if the sum of the integers is 20 or if one of the integers is 20. If not, return False"
      ]
    },
    {
      "metadata": {
        "id": "Il3yCM7hi--I",
        "colab_type": "code",
        "colab": {}
      },
      "cell_type": "code",
      "source": [
        "def add(a, b):\n",
        "  if a + b == 20 or a == 20 or b == 20:\n",
        "    return True \n",
        "  else:\n",
        "    return False"
      ],
      "execution_count": 0,
      "outputs": []
    },
    {
      "metadata": {
        "id": "6ConMiSCjPCT",
        "colab_type": "code",
        "colab": {
          "base_uri": "https://localhost:8080/",
          "height": 34
        },
        "outputId": "a7d977b8-e425-4546-e515-c70acd430a98"
      },
      "cell_type": "code",
      "source": [
        "add(0, 10)"
      ],
      "execution_count": 46,
      "outputs": [
        {
          "output_type": "execute_result",
          "data": {
            "text/plain": [
              "False"
            ]
          },
          "metadata": {
            "tags": []
          },
          "execution_count": 46
        }
      ]
    },
    {
      "metadata": {
        "id": "R17jsA1xkkuk",
        "colab_type": "text"
      },
      "cell_type": "markdown",
      "source": [
        "### OLD MACDONALD: \n",
        "\n",
        "Write a function that capitalizes the first and fourth letters of a name"
      ]
    },
    {
      "metadata": {
        "id": "dF1KvtKokoxf",
        "colab_type": "code",
        "colab": {}
      },
      "cell_type": "code",
      "source": [
        "def capital(name):\n",
        "  if len(name) > 3:\n",
        "    return name[:3].capitalize() + name[3:].capitalize()"
      ],
      "execution_count": 0,
      "outputs": []
    },
    {
      "metadata": {
        "id": "s8S77UDRk-VB",
        "colab_type": "code",
        "colab": {
          "base_uri": "https://localhost:8080/",
          "height": 34
        },
        "outputId": "1f47287b-f2ad-4f84-f1db-7381e21dff16"
      },
      "cell_type": "code",
      "source": [
        "capital('macdonald')"
      ],
      "execution_count": 62,
      "outputs": [
        {
          "output_type": "execute_result",
          "data": {
            "text/plain": [
              "'MacDonald'"
            ]
          },
          "metadata": {
            "tags": []
          },
          "execution_count": 62
        }
      ]
    },
    {
      "metadata": {
        "id": "G8luRIU5lAxS",
        "colab_type": "code",
        "colab": {}
      },
      "cell_type": "code",
      "source": [
        ""
      ],
      "execution_count": 0,
      "outputs": []
    }
  ]
}